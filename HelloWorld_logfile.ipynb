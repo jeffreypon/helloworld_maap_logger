{
 "cells": [
  {
   "cell_type": "code",
   "execution_count": 1,
   "id": "af0e2f4d",
   "metadata": {},
   "outputs": [],
   "source": [
    "from datetime import datetime"
   ]
  },
  {
   "cell_type": "code",
   "execution_count": 2,
   "id": "f1586236",
   "metadata": {},
   "outputs": [],
   "source": [
    "time = str(datetime.now())"
   ]
  },
  {
   "cell_type": "code",
   "execution_count": 3,
   "id": "2b74ef47",
   "metadata": {},
   "outputs": [],
   "source": [
    "text = \": Hello World\""
   ]
  },
  {
   "cell_type": "code",
   "execution_count": 4,
   "id": "a1a2a257",
   "metadata": {},
   "outputs": [],
   "source": [
    "logtext = time + text + \"\\n\""
   ]
  },
  {
   "cell_type": "code",
   "execution_count": 5,
   "id": "dd3bd75c",
   "metadata": {},
   "outputs": [
    {
     "name": "stdout",
     "output_type": "stream",
     "text": [
      "2022-04-06 17:57:14.768249: Hello World\n",
      "\n"
     ]
    }
   ],
   "source": [
    "print(logtext)"
   ]
  },
  {
   "cell_type": "code",
   "execution_count": 6,
   "id": "43376010",
   "metadata": {},
   "outputs": [],
   "source": [
    "with open('log.txt', 'a') as f:\n",
    "    f.write(logtext)"
   ]
  },
  {
   "cell_type": "code",
   "execution_count": 7,
   "id": "9fc9e010",
   "metadata": {},
   "outputs": [],
   "source": [
    "f.close()"
   ]
  },
  {
   "cell_type": "code",
   "execution_count": null,
   "id": "974a64e3",
   "metadata": {},
   "outputs": [],
   "source": []
  },
  {
   "cell_type": "code",
   "execution_count": null,
   "id": "565bdc4e",
   "metadata": {},
   "outputs": [],
   "source": []
  }
 ],
 "metadata": {
  "kernelspec": {
   "display_name": "Python 3 (ipykernel)",
   "language": "python",
   "name": "python3"
  },
  "language_info": {
   "codemirror_mode": {
    "name": "ipython",
    "version": 3
   },
   "file_extension": ".py",
   "mimetype": "text/x-python",
   "name": "python",
   "nbconvert_exporter": "python",
   "pygments_lexer": "ipython3",
   "version": "3.7.8"
  }
 },
 "nbformat": 4,
 "nbformat_minor": 5
}
